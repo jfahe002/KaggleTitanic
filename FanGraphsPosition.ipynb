{
 "cells": [
  {
   "cell_type": "markdown",
   "metadata": {},
   "source": [
    "This is a fairly shorthand attempt at deriving the linear weights used in FanGraphs' WAR calculations.  WAR is basically a way to assess a player's contribution to the team in terms of wins.  That is, if a player is worth 5 wins, a team would theoretically lose 5 more games if that player was replaced by an average AAA player.  As a rule of thumb, an average starter is worth about 2 wins while an MVP-caliber season is typically around 7+ wins.  \n",
    "\n",
    "WAR attempts to encompass a player's contributions at the plate, in the field, and on the basepaths by converting each of those main components into weighted runs and then combining them all together.  For offensive value, this starts with a player's weighted on-base average (wOBA).  wOBA includes run values for things like walks, singles, doubles, triples, and home runs and also adjusts them to factor in what park that player plays in.  You need to do this because a player from Colorado, for example, is generally going to produce a lot more at the plate because it's a much easier place to hit. On the other hand, players in San Diego and San Francisco tend to do worse.  \n",
    "\n",
    "The first thing to do is import the necessary libraries and the data we are going to be using.  The dataset below consists of every player's overall line for the season as of 9/25 (with a cutoff set to 200 PA).  "
   ]
  },
  {
   "cell_type": "code",
   "execution_count": 1,
   "metadata": {},
   "outputs": [
    {
     "name": "stderr",
     "output_type": "stream",
     "text": [
      "C:\\Users\\jfahe\\Anaconda3\\lib\\site-packages\\sklearn\\cross_validation.py:44: DeprecationWarning: This module was deprecated in version 0.18 in favor of the model_selection module into which all the refactored classes and functions are moved. Also note that the interface of the new CV iterators are different from that of this module. This module will be removed in 0.20.\n",
      "  \"This module will be removed in 0.20.\", DeprecationWarning)\n"
     ]
    }
   ],
   "source": [
    "import pandas as pd\n",
    "import numpy as np\n",
    "import seaborn as sb\n",
    "import matplotlib.pyplot as  plt\n",
    "from scipy.stats.stats import pearsonr\n",
    "\n",
    "from sklearn import linear_model\n",
    "from sklearn import svm, preprocessing, cross_validation\n",
    "from sklearn import tree\n",
    "from sklearn.ensemble import RandomForestRegressor\n",
    "from sklearn.neural_network import MLPRegressor\n",
    "from sklearn.neighbors import KNeighborsRegressor"
   ]
  },
  {
   "cell_type": "code",
   "execution_count": 2,
   "metadata": {},
   "outputs": [
    {
     "data": {
      "text/html": [
       "<div>\n",
       "<style>\n",
       "    .dataframe thead tr:only-child th {\n",
       "        text-align: right;\n",
       "    }\n",
       "\n",
       "    .dataframe thead th {\n",
       "        text-align: left;\n",
       "    }\n",
       "\n",
       "    .dataframe tbody tr th {\n",
       "        vertical-align: top;\n",
       "    }\n",
       "</style>\n",
       "<table border=\"1\" class=\"dataframe\">\n",
       "  <thead>\n",
       "    <tr style=\"text-align: right;\">\n",
       "      <th></th>\n",
       "      <th>Name</th>\n",
       "      <th>Team</th>\n",
       "      <th>G</th>\n",
       "      <th>PA</th>\n",
       "      <th>HR</th>\n",
       "      <th>R</th>\n",
       "      <th>RBI</th>\n",
       "      <th>SB</th>\n",
       "      <th>BB%</th>\n",
       "      <th>K%</th>\n",
       "      <th>...</th>\n",
       "      <th>AVG</th>\n",
       "      <th>OBP</th>\n",
       "      <th>SLG</th>\n",
       "      <th>wOBA</th>\n",
       "      <th>wRC+</th>\n",
       "      <th>BsR</th>\n",
       "      <th>Off</th>\n",
       "      <th>Def</th>\n",
       "      <th>WAR</th>\n",
       "      <th>playerid</th>\n",
       "    </tr>\n",
       "  </thead>\n",
       "  <tbody>\n",
       "    <tr>\n",
       "      <th>0</th>\n",
       "      <td>Jose Altuve</td>\n",
       "      <td>Astros</td>\n",
       "      <td>147</td>\n",
       "      <td>639</td>\n",
       "      <td>24</td>\n",
       "      <td>106</td>\n",
       "      <td>80</td>\n",
       "      <td>32</td>\n",
       "      <td>8.9 %</td>\n",
       "      <td>13.0 %</td>\n",
       "      <td>...</td>\n",
       "      <td>0.348</td>\n",
       "      <td>0.412</td>\n",
       "      <td>0.555</td>\n",
       "      <td>0.408</td>\n",
       "      <td>161</td>\n",
       "      <td>3.5</td>\n",
       "      <td>52.0</td>\n",
       "      <td>-0.5</td>\n",
       "      <td>7.3</td>\n",
       "      <td>5417</td>\n",
       "    </tr>\n",
       "    <tr>\n",
       "      <th>1</th>\n",
       "      <td>Aaron Judge</td>\n",
       "      <td>Yankees</td>\n",
       "      <td>149</td>\n",
       "      <td>651</td>\n",
       "      <td>48</td>\n",
       "      <td>122</td>\n",
       "      <td>105</td>\n",
       "      <td>8</td>\n",
       "      <td>18.3 %</td>\n",
       "      <td>31.0 %</td>\n",
       "      <td>...</td>\n",
       "      <td>0.281</td>\n",
       "      <td>0.416</td>\n",
       "      <td>0.610</td>\n",
       "      <td>0.422</td>\n",
       "      <td>167</td>\n",
       "      <td>-1.1</td>\n",
       "      <td>52.5</td>\n",
       "      <td>-1.5</td>\n",
       "      <td>7.3</td>\n",
       "      <td>15640</td>\n",
       "    </tr>\n",
       "    <tr>\n",
       "      <th>2</th>\n",
       "      <td>Anthony Rendon</td>\n",
       "      <td>Nationals</td>\n",
       "      <td>142</td>\n",
       "      <td>584</td>\n",
       "      <td>24</td>\n",
       "      <td>76</td>\n",
       "      <td>96</td>\n",
       "      <td>7</td>\n",
       "      <td>13.9 %</td>\n",
       "      <td>13.7 %</td>\n",
       "      <td>...</td>\n",
       "      <td>0.299</td>\n",
       "      <td>0.401</td>\n",
       "      <td>0.532</td>\n",
       "      <td>0.392</td>\n",
       "      <td>141</td>\n",
       "      <td>1.8</td>\n",
       "      <td>32.7</td>\n",
       "      <td>15.6</td>\n",
       "      <td>6.7</td>\n",
       "      <td>12861</td>\n",
       "    </tr>\n",
       "    <tr>\n",
       "      <th>3</th>\n",
       "      <td>Giancarlo Stanton</td>\n",
       "      <td>Marlins</td>\n",
       "      <td>152</td>\n",
       "      <td>661</td>\n",
       "      <td>57</td>\n",
       "      <td>118</td>\n",
       "      <td>126</td>\n",
       "      <td>2</td>\n",
       "      <td>12.7 %</td>\n",
       "      <td>23.4 %</td>\n",
       "      <td>...</td>\n",
       "      <td>0.280</td>\n",
       "      <td>0.378</td>\n",
       "      <td>0.635</td>\n",
       "      <td>0.412</td>\n",
       "      <td>158</td>\n",
       "      <td>-2.2</td>\n",
       "      <td>47.0</td>\n",
       "      <td>-2.3</td>\n",
       "      <td>6.6</td>\n",
       "      <td>4949</td>\n",
       "    </tr>\n",
       "    <tr>\n",
       "      <th>4</th>\n",
       "      <td>Kris Bryant</td>\n",
       "      <td>Cubs</td>\n",
       "      <td>146</td>\n",
       "      <td>647</td>\n",
       "      <td>28</td>\n",
       "      <td>108</td>\n",
       "      <td>72</td>\n",
       "      <td>7</td>\n",
       "      <td>14.4 %</td>\n",
       "      <td>19.0 %</td>\n",
       "      <td>...</td>\n",
       "      <td>0.294</td>\n",
       "      <td>0.408</td>\n",
       "      <td>0.536</td>\n",
       "      <td>0.398</td>\n",
       "      <td>146</td>\n",
       "      <td>4.7</td>\n",
       "      <td>42.5</td>\n",
       "      <td>1.9</td>\n",
       "      <td>6.5</td>\n",
       "      <td>15429</td>\n",
       "    </tr>\n",
       "  </tbody>\n",
       "</table>\n",
       "<p>5 rows × 22 columns</p>\n",
       "</div>"
      ],
      "text/plain": [
       "                Name       Team    G   PA  HR    R  RBI  SB     BB%      K%  \\\n",
       "0        Jose Altuve     Astros  147  639  24  106   80  32   8.9 %  13.0 %   \n",
       "1        Aaron Judge    Yankees  149  651  48  122  105   8  18.3 %  31.0 %   \n",
       "2     Anthony Rendon  Nationals  142  584  24   76   96   7  13.9 %  13.7 %   \n",
       "3  Giancarlo Stanton    Marlins  152  661  57  118  126   2  12.7 %  23.4 %   \n",
       "4        Kris Bryant       Cubs  146  647  28  108   72   7  14.4 %  19.0 %   \n",
       "\n",
       "     ...       AVG    OBP    SLG   wOBA  wRC+  BsR   Off   Def  WAR  playerid  \n",
       "0    ...     0.348  0.412  0.555  0.408   161  3.5  52.0  -0.5  7.3      5417  \n",
       "1    ...     0.281  0.416  0.610  0.422   167 -1.1  52.5  -1.5  7.3     15640  \n",
       "2    ...     0.299  0.401  0.532  0.392   141  1.8  32.7  15.6  6.7     12861  \n",
       "3    ...     0.280  0.378  0.635  0.412   158 -2.2  47.0  -2.3  6.6      4949  \n",
       "4    ...     0.294  0.408  0.536  0.398   146  4.7  42.5   1.9  6.5     15429  \n",
       "\n",
       "[5 rows x 22 columns]"
      ]
     },
     "execution_count": 2,
     "metadata": {},
     "output_type": "execute_result"
    }
   ],
   "source": [
    "df = pd.read_csv('FanGraphsPos.csv')\n",
    "df.head()"
   ]
  },
  {
   "cell_type": "code",
   "execution_count": 3,
   "metadata": {},
   "outputs": [
    {
     "data": {
      "text/plain": [
       "Index(['Name', 'Team', 'G', 'PA', 'HR', 'R', 'RBI', 'SB', 'BB%', 'K%', 'ISO',\n",
       "       'BABIP', 'AVG', 'OBP', 'SLG', 'wOBA', 'wRC+', 'BsR', 'Off', 'Def',\n",
       "       'WAR', 'playerid'],\n",
       "      dtype='object')"
      ]
     },
     "execution_count": 3,
     "metadata": {},
     "output_type": "execute_result"
    }
   ],
   "source": [
    "df.columns"
   ]
  },
  {
   "cell_type": "markdown",
   "metadata": {},
   "source": [
    "Before we do anything, we'd do well to clean up BB% and K% so they're in a format we can actually use; Pandas is reading them as string values because of the space between the numbers and the percentage signs."
   ]
  },
  {
   "cell_type": "code",
   "execution_count": 4,
   "metadata": {
    "collapsed": true
   },
   "outputs": [],
   "source": [
    "BB_fix = []\n",
    "K_fix = []\n",
    "\n",
    "for i in df['BB%']:\n",
    "    new = float(i[0:4])\n",
    "    BB_fix.append(new)\n",
    "    \n",
    "for j in df['K%']:\n",
    "    new = float(j[0:4])\n",
    "    K_fix.append(new)"
   ]
  },
  {
   "cell_type": "code",
   "execution_count": 5,
   "metadata": {
    "collapsed": true
   },
   "outputs": [],
   "source": [
    "df['BB%'] = BB_fix\n",
    "df['K%'] = K_fix"
   ]
  },
  {
   "cell_type": "markdown",
   "metadata": {},
   "source": [
    "Luckily for us, FanGraphs does a pretty good job of keeping their data clean.  That means we don't really need to go hunting for errors.  \n",
    "\n",
    "For fun, let's just get a feel for the distribution of player WAR by making some visualizations.  "
   ]
  },
  {
   "cell_type": "code",
   "execution_count": 6,
   "metadata": {},
   "outputs": [
    {
     "data": {
      "image/png": "[encoded data removed]",
      "text/plain": [
       "<matplotlib.figure.Figure at 0x1b948edc828>"
      ]
     },
     "metadata": {},
     "output_type": "display_data"
    }
   ],
   "source": [
    "sb.distplot(df['WAR'])\n",
    "plt.show()"
   ]
  },
  {
   "cell_type": "markdown",
   "metadata": {},
   "source": [
    "As I said before, average starters tend to be somewhere in the 2-win range while the Aaron Judges and Mike Trouts of the league are way to the right of the distibution in the 6-8 range.\n",
    "\n",
    "Before we do anything else, let's go ahead and drop the variables we know we won't need (Name, Team, and playerid).  I'm also going to drop Off, wOBA, and wRC+ because the whole point of this is really to see if I can recreate the offensive portion of WAR.  I would also do the same for defense and baserunning, but I don't have the data to derive those in this set.  For now, I'll settle for deriving the overall weights of their overall contributions."
   ]
  },
  {
   "cell_type": "code",
   "execution_count": 7,
   "metadata": {
    "collapsed": true
   },
   "outputs": [],
   "source": [
    "df_clean = df.drop(['Name','Team','Off','wOBA','wRC+','playerid'],axis = 1)"
   ]
  },
  {
   "cell_type": "code",
   "execution_count": 8,
   "metadata": {},
   "outputs": [
    {
     "data": {
      "text/html": [
       "<div>\n",
       "<style>\n",
       "    .dataframe thead tr:only-child th {\n",
       "        text-align: right;\n",
       "    }\n",
       "\n",
       "    .dataframe thead th {\n",
       "        text-align: left;\n",
       "    }\n",
       "\n",
       "    .dataframe tbody tr th {\n",
       "        vertical-align: top;\n",
       "    }\n",
       "</style>\n",
       "<table border=\"1\" class=\"dataframe\">\n",
       "  <thead>\n",
       "    <tr style=\"text-align: right;\">\n",
       "      <th></th>\n",
       "      <th>G</th>\n",
       "      <th>PA</th>\n",
       "      <th>HR</th>\n",
       "      <th>R</th>\n",
       "      <th>RBI</th>\n",
       "      <th>SB</th>\n",
       "      <th>BB%</th>\n",
       "      <th>K%</th>\n",
       "      <th>ISO</th>\n",
       "      <th>BABIP</th>\n",
       "      <th>AVG</th>\n",
       "      <th>OBP</th>\n",
       "      <th>SLG</th>\n",
       "      <th>BsR</th>\n",
       "      <th>Def</th>\n",
       "      <th>WAR</th>\n",
       "    </tr>\n",
       "  </thead>\n",
       "  <tbody>\n",
       "    <tr>\n",
       "      <th>count</th>\n",
       "      <td>341.000000</td>\n",
       "      <td>341.000000</td>\n",
       "      <td>341.000000</td>\n",
       "      <td>341.000000</td>\n",
       "      <td>341.000000</td>\n",
       "      <td>341.000000</td>\n",
       "      <td>341.000000</td>\n",
       "      <td>341.000000</td>\n",
       "      <td>341.000000</td>\n",
       "      <td>341.000000</td>\n",
       "      <td>341.000000</td>\n",
       "      <td>341.000000</td>\n",
       "      <td>341.000000</td>\n",
       "      <td>341.000000</td>\n",
       "      <td>341.000000</td>\n",
       "      <td>341.000000</td>\n",
       "    </tr>\n",
       "    <tr>\n",
       "      <th>mean</th>\n",
       "      <td>116.668622</td>\n",
       "      <td>446.683284</td>\n",
       "      <td>15.759531</td>\n",
       "      <td>56.451613</td>\n",
       "      <td>54.143695</td>\n",
       "      <td>6.460411</td>\n",
       "      <td>8.701173</td>\n",
       "      <td>20.943695</td>\n",
       "      <td>0.176035</td>\n",
       "      <td>0.303827</td>\n",
       "      <td>0.261100</td>\n",
       "      <td>0.331158</td>\n",
       "      <td>0.437132</td>\n",
       "      <td>-0.036950</td>\n",
       "      <td>-0.609384</td>\n",
       "      <td>1.672434</td>\n",
       "    </tr>\n",
       "    <tr>\n",
       "      <th>std</th>\n",
       "      <td>26.409978</td>\n",
       "      <td>138.286146</td>\n",
       "      <td>9.936901</td>\n",
       "      <td>23.145096</td>\n",
       "      <td>24.849190</td>\n",
       "      <td>8.191946</td>\n",
       "      <td>3.158518</td>\n",
       "      <td>5.987428</td>\n",
       "      <td>0.058874</td>\n",
       "      <td>0.035565</td>\n",
       "      <td>0.030826</td>\n",
       "      <td>0.035304</td>\n",
       "      <td>0.071023</td>\n",
       "      <td>2.999929</td>\n",
       "      <td>7.024464</td>\n",
       "      <td>1.713666</td>\n",
       "    </tr>\n",
       "    <tr>\n",
       "      <th>min</th>\n",
       "      <td>48.000000</td>\n",
       "      <td>200.000000</td>\n",
       "      <td>0.000000</td>\n",
       "      <td>13.000000</td>\n",
       "      <td>10.000000</td>\n",
       "      <td>0.000000</td>\n",
       "      <td>2.200000</td>\n",
       "      <td>8.400000</td>\n",
       "      <td>0.044000</td>\n",
       "      <td>0.200000</td>\n",
       "      <td>0.173000</td>\n",
       "      <td>0.244000</td>\n",
       "      <td>0.237000</td>\n",
       "      <td>-9.500000</td>\n",
       "      <td>-19.400000</td>\n",
       "      <td>-1.700000</td>\n",
       "    </tr>\n",
       "    <tr>\n",
       "      <th>25%</th>\n",
       "      <td>96.000000</td>\n",
       "      <td>326.000000</td>\n",
       "      <td>8.000000</td>\n",
       "      <td>39.000000</td>\n",
       "      <td>35.000000</td>\n",
       "      <td>1.000000</td>\n",
       "      <td>6.300000</td>\n",
       "      <td>16.300000</td>\n",
       "      <td>0.133000</td>\n",
       "      <td>0.279000</td>\n",
       "      <td>0.241000</td>\n",
       "      <td>0.309000</td>\n",
       "      <td>0.389000</td>\n",
       "      <td>-2.000000</td>\n",
       "      <td>-5.100000</td>\n",
       "      <td>0.500000</td>\n",
       "    </tr>\n",
       "    <tr>\n",
       "      <th>50%</th>\n",
       "      <td>122.000000</td>\n",
       "      <td>453.000000</td>\n",
       "      <td>14.000000</td>\n",
       "      <td>54.000000</td>\n",
       "      <td>52.000000</td>\n",
       "      <td>4.000000</td>\n",
       "      <td>8.300000</td>\n",
       "      <td>20.800000</td>\n",
       "      <td>0.173000</td>\n",
       "      <td>0.304000</td>\n",
       "      <td>0.262000</td>\n",
       "      <td>0.329000</td>\n",
       "      <td>0.430000</td>\n",
       "      <td>-0.100000</td>\n",
       "      <td>-0.700000</td>\n",
       "      <td>1.400000</td>\n",
       "    </tr>\n",
       "    <tr>\n",
       "      <th>75%</th>\n",
       "      <td>139.000000</td>\n",
       "      <td>563.000000</td>\n",
       "      <td>22.000000</td>\n",
       "      <td>74.000000</td>\n",
       "      <td>71.000000</td>\n",
       "      <td>9.000000</td>\n",
       "      <td>10.900000</td>\n",
       "      <td>24.200000</td>\n",
       "      <td>0.217000</td>\n",
       "      <td>0.331000</td>\n",
       "      <td>0.280000</td>\n",
       "      <td>0.354000</td>\n",
       "      <td>0.482000</td>\n",
       "      <td>2.000000</td>\n",
       "      <td>4.100000</td>\n",
       "      <td>2.500000</td>\n",
       "    </tr>\n",
       "    <tr>\n",
       "      <th>max</th>\n",
       "      <td>156.000000</td>\n",
       "      <td>699.000000</td>\n",
       "      <td>57.000000</td>\n",
       "      <td>134.000000</td>\n",
       "      <td>126.000000</td>\n",
       "      <td>58.000000</td>\n",
       "      <td>19.100000</td>\n",
       "      <td>37.600000</td>\n",
       "      <td>0.392000</td>\n",
       "      <td>0.394000</td>\n",
       "      <td>0.348000</td>\n",
       "      <td>0.452000</td>\n",
       "      <td>0.684000</td>\n",
       "      <td>10.300000</td>\n",
       "      <td>21.100000</td>\n",
       "      <td>7.300000</td>\n",
       "    </tr>\n",
       "  </tbody>\n",
       "</table>\n",
       "</div>"
      ],
      "text/plain": [
       "                G          PA          HR           R         RBI          SB  \\\n",
       "count  341.000000  341.000000  341.000000  341.000000  341.000000  341.000000   \n",
       "mean   116.668622  446.683284   15.759531   56.451613   54.143695    6.460411   \n",
       "std     26.409978  138.286146    9.936901   23.145096   24.849190    8.191946   \n",
       "min     48.000000  200.000000    0.000000   13.000000   10.000000    0.000000   \n",
       "25%     96.000000  326.000000    8.000000   39.000000   35.000000    1.000000   \n",
       "50%    122.000000  453.000000   14.000000   54.000000   52.000000    4.000000   \n",
       "75%    139.000000  563.000000   22.000000   74.000000   71.000000    9.000000   \n",
       "max    156.000000  699.000000   57.000000  134.000000  126.000000   58.000000   \n",
       "\n",
       "              BB%          K%         ISO       BABIP         AVG         OBP  \\\n",
       "count  341.000000  341.000000  341.000000  341.000000  341.000000  341.000000   \n",
       "mean     8.701173   20.943695    0.176035    0.303827    0.261100    0.331158   \n",
       "std      3.158518    5.987428    0.058874    0.035565    0.030826    0.035304   \n",
       "min      2.200000    8.400000    0.044000    0.200000    0.173000    0.244000   \n",
       "25%      6.300000   16.300000    0.133000    0.279000    0.241000    0.309000   \n",
       "50%      8.300000   20.800000    0.173000    0.304000    0.262000    0.329000   \n",
       "75%     10.900000   24.200000    0.217000    0.331000    0.280000    0.354000   \n",
       "max     19.100000   37.600000    0.392000    0.394000    0.348000    0.452000   \n",
       "\n",
       "              SLG         BsR         Def         WAR  \n",
       "count  341.000000  341.000000  341.000000  341.000000  \n",
       "mean     0.437132   -0.036950   -0.609384    1.672434  \n",
       "std      0.071023    2.999929    7.024464    1.713666  \n",
       "min      0.237000   -9.500000  -19.400000   -1.700000  \n",
       "25%      0.389000   -2.000000   -5.100000    0.500000  \n",
       "50%      0.430000   -0.100000   -0.700000    1.400000  \n",
       "75%      0.482000    2.000000    4.100000    2.500000  \n",
       "max      0.684000   10.300000   21.100000    7.300000  "
      ]
     },
     "execution_count": 8,
     "metadata": {},
     "output_type": "execute_result"
    }
   ],
   "source": [
    "df_clean.describe()"
   ]
  },
  {
   "cell_type": "markdown",
   "metadata": {},
   "source": [
    "Now let's take a look at how all of the columns correlate.  We'll do this with a correlation heatmap.  Lighter cells correlate mean the two variables correlate strongly while darker ones don't really have much of a linear relationship.  \n",
    "\n",
    "If you look at the last row, we can see that most of the variables we kept seem to be pretty strongly correlated with WAR.  Just by looking at it, we can see that K% doesn't appear to matter at all.  We can also see that some variables are a bit redundant; there's no reason to keep SB as long as we're also keeping BsR. Games played would also contain a lot of the same information as PA while being less informative, so we'll drop that too.  ISO is just SLG - AVG, so we don't really need that either.  I'm tempted to drop BABIP, but I'm also curious how much of an effect it has even if it doesn't have a whole lot of predictive value on its own."
   ]
  },
  {
   "cell_type": "code",
   "execution_count": 9,
   "metadata": {},
   "outputs": [
    {
     "data": {
      "image/png": "[encoded data removed]",
      "text/plain": [
       "<matplotlib.figure.Figure at 0x1b949340a58>"
      ]
     },
     "metadata": {},
     "output_type": "display_data"
    }
   ],
   "source": [
    "corrmat = df_clean.corr()\n",
    "f, ax = plt.subplots(figsize=(12, 9))\n",
    "sb.heatmap(corrmat, vmax=.8, square=True)\n",
    "plt.show()"
   ]
  },
  {
   "cell_type": "code",
   "execution_count": 10,
   "metadata": {
    "collapsed": true
   },
   "outputs": [],
   "source": [
    "df_clean = df_clean.drop(['G','SB','K%','ISO','PA'],axis = 1)"
   ]
  },
  {
   "cell_type": "markdown",
   "metadata": {},
   "source": [
    "Next, we have to convert our data into an array format, scale it, and separate our training and testing sets.  The scaling part is kind of important; it basically takes each variable and converts it to a standardized scale so that you don't have really huge values throwing off your predictions (e.g. Aaron Judge's HR total).  Standardizing something means you're centering its mean at zero and coverting the values to increments of standard deviations, meaning that you now have how many standard deviations above or below the mean a player is in that particular category.  "
   ]
  },
  {
   "cell_type": "code",
   "execution_count": 11,
   "metadata": {
    "collapsed": true
   },
   "outputs": [],
   "source": [
    "X = np.array(df_clean.drop(['WAR'],1))\n",
    "X = preprocessing.scale(X)\n",
    "y = np.array(df_clean.WAR)"
   ]
  },
  {
   "cell_type": "code",
   "execution_count": 12,
   "metadata": {
    "collapsed": true
   },
   "outputs": [],
   "source": [
    "X_train, X_test, y_train, y_test = cross_validation.train_test_split(X,y, test_size = 0.3)"
   ]
  },
  {
   "cell_type": "markdown",
   "metadata": {},
   "source": [
    "Now we're ready to generate some models.  I already know that they're using a linear model, but I thought it'd be fun to also try some other algorithms just to see how they do.  In order, we have a basic linear model, a support vector machine with a linear kernel, a decision tree, a Multilayer Perceptron, a Random Forest set to 100, and a K Nearest Neighbors set to 15.  "
   ]
  },
  {
   "cell_type": "code",
   "execution_count": 13,
   "metadata": {},
   "outputs": [
    {
     "name": "stdout",
     "output_type": "stream",
     "text": [
      "0.914743398934\n"
     ]
    }
   ],
   "source": [
    "lm = linear_model.LinearRegression()\n",
    "lm.fit(X_train,y_train)\n",
    "print(lm.score(X_test,y_test))"
   ]
  },
  {
   "cell_type": "code",
   "execution_count": 14,
   "metadata": {},
   "outputs": [
    {
     "name": "stdout",
     "output_type": "stream",
     "text": [
      "0.914097885082\n"
     ]
    }
   ],
   "source": [
    "clf = svm.SVR(kernel = 'linear')\n",
    "clf.fit(X_train,y_train)\n",
    "print(clf.score(X_test,y_test))"
   ]
  },
  {
   "cell_type": "code",
   "execution_count": 15,
   "metadata": {},
   "outputs": [
    {
     "name": "stdout",
     "output_type": "stream",
     "text": [
      "0.760642044637\n"
     ]
    }
   ],
   "source": [
    "dt = tree.DecisionTreeRegressor()\n",
    "dt.fit(X_train,y_train)\n",
    "print(dt.score(X_test,y_test))"
   ]
  },
  {
   "cell_type": "code",
   "execution_count": 16,
   "metadata": {},
   "outputs": [
    {
     "name": "stdout",
     "output_type": "stream",
     "text": [
      "0.941786346787\n"
     ]
    },
    {
     "name": "stderr",
     "output_type": "stream",
     "text": [
      "C:\\Users\\jfahe\\Anaconda3\\lib\\site-packages\\sklearn\\neural_network\\multilayer_perceptron.py:563: ConvergenceWarning: Stochastic Optimizer: Maximum iterations reached and the optimization hasn't converged yet.\n",
      "  % (), ConvergenceWarning)\n"
     ]
    }
   ],
   "source": [
    "nn = MLPRegressor()\n",
    "nn.fit(X_train,y_train)\n",
    "print(nn.score(X_test,y_test))"
   ]
  },
  {
   "cell_type": "code",
   "execution_count": 17,
   "metadata": {},
   "outputs": [
    {
     "name": "stdout",
     "output_type": "stream",
     "text": [
      "0.886402265479\n"
     ]
    }
   ],
   "source": [
    "rf = RandomForestRegressor(n_estimators = 100)\n",
    "rf.fit(X_train,y_train)\n",
    "print(rf.score(X_test,y_test))"
   ]
  },
  {
   "cell_type": "code",
   "execution_count": 18,
   "metadata": {},
   "outputs": [
    {
     "data": {
      "text/plain": [
       "0.84955417410307699"
      ]
     },
     "execution_count": 18,
     "metadata": {},
     "output_type": "execute_result"
    }
   ],
   "source": [
    "knn = KNeighborsRegressor(15)\n",
    "knn.fit(X_train, y_train)\n",
    "knn.score(X_test, y_test)"
   ]
  },
  {
   "cell_type": "markdown",
   "metadata": {
    "collapsed": true
   },
   "source": [
    "It looks like most of them did pretty well; we were able to get a hair above 90% accuracy with a linear model.  Not bad for a first try.  Let's see what the linear weights for each one look like.  "
   ]
  },
  {
   "cell_type": "code",
   "execution_count": 19,
   "metadata": {
    "collapsed": true
   },
   "outputs": [],
   "source": [
    "coef_list = list(lm.coef_)\n",
    "col_list = list(df_clean.columns)\n",
    "col_list = col_list[0:10]\n",
    "weight_df = pd.DataFrame(columns=['Variable','Weight'])\n",
    "weight_df['Variable'] = col_list\n",
    "weight_df['Weight'] = coef_list"
   ]
  },
  {
   "cell_type": "code",
   "execution_count": 20,
   "metadata": {},
   "outputs": [
    {
     "data": {
      "text/html": [
       "<div>\n",
       "<style>\n",
       "    .dataframe thead tr:only-child th {\n",
       "        text-align: right;\n",
       "    }\n",
       "\n",
       "    .dataframe thead th {\n",
       "        text-align: left;\n",
       "    }\n",
       "\n",
       "    .dataframe tbody tr th {\n",
       "        vertical-align: top;\n",
       "    }\n",
       "</style>\n",
       "<table border=\"1\" class=\"dataframe\">\n",
       "  <thead>\n",
       "    <tr style=\"text-align: right;\">\n",
       "      <th></th>\n",
       "      <th>Variable</th>\n",
       "      <th>Weight</th>\n",
       "    </tr>\n",
       "  </thead>\n",
       "  <tbody>\n",
       "    <tr>\n",
       "      <th>0</th>\n",
       "      <td>HR</td>\n",
       "      <td>0.747938</td>\n",
       "    </tr>\n",
       "    <tr>\n",
       "      <th>1</th>\n",
       "      <td>R</td>\n",
       "      <td>0.250852</td>\n",
       "    </tr>\n",
       "    <tr>\n",
       "      <th>2</th>\n",
       "      <td>RBI</td>\n",
       "      <td>-0.072632</td>\n",
       "    </tr>\n",
       "    <tr>\n",
       "      <th>3</th>\n",
       "      <td>BB%</td>\n",
       "      <td>-0.013948</td>\n",
       "    </tr>\n",
       "    <tr>\n",
       "      <th>4</th>\n",
       "      <td>BABIP</td>\n",
       "      <td>-0.077467</td>\n",
       "    </tr>\n",
       "    <tr>\n",
       "      <th>5</th>\n",
       "      <td>AVG</td>\n",
       "      <td>0.295354</td>\n",
       "    </tr>\n",
       "    <tr>\n",
       "      <th>6</th>\n",
       "      <td>OBP</td>\n",
       "      <td>0.700872</td>\n",
       "    </tr>\n",
       "    <tr>\n",
       "      <th>7</th>\n",
       "      <td>SLG</td>\n",
       "      <td>0.157488</td>\n",
       "    </tr>\n",
       "    <tr>\n",
       "      <th>8</th>\n",
       "      <td>BsR</td>\n",
       "      <td>0.292029</td>\n",
       "    </tr>\n",
       "    <tr>\n",
       "      <th>9</th>\n",
       "      <td>Def</td>\n",
       "      <td>0.706458</td>\n",
       "    </tr>\n",
       "  </tbody>\n",
       "</table>\n",
       "</div>"
      ],
      "text/plain": [
       "  Variable    Weight\n",
       "0       HR  0.747938\n",
       "1        R  0.250852\n",
       "2      RBI -0.072632\n",
       "3      BB% -0.013948\n",
       "4    BABIP -0.077467\n",
       "5      AVG  0.295354\n",
       "6      OBP  0.700872\n",
       "7      SLG  0.157488\n",
       "8      BsR  0.292029\n",
       "9      Def  0.706458"
      ]
     },
     "execution_count": 20,
     "metadata": {},
     "output_type": "execute_result"
    }
   ],
   "source": [
    "weight_df"
   ]
  },
  {
   "cell_type": "markdown",
   "metadata": {},
   "source": [
    "So there you have it.  Those are the linear weights assigned to each of the variables.  These weights basically mean that for every unit increase in the variable (after we've scaled it), you're adding that much value to a player's WAR.  For example, a player one standard deviation above the mean for home runs is getting an additional .75 wins towards his WAR total.\n",
    "\n",
    "We could derive more accurate weights by reconfiguring our variables to consist of only things that we know are in their offensive value calculations, but this is a decent start.  I think a fun direction to go from here would be to do the entire thing from the ground up and calculate our own wOBA and then use that to derive the actual weighted runs, but I'll save that for another time."
   ]
  }
 ],
 "metadata": {
  "kernelspec": {
   "display_name": "Python 3",
   "language": "python",
   "name": "python3"
  },
  "language_info": {
   "codemirror_mode": {
    "name": "ipython",
    "version": 3
   },
   "file_extension": ".py",
   "mimetype": "text/x-python",
   "name": "python",
   "nbconvert_exporter": "python",
   "pygments_lexer": "ipython3",
   "version": "3.6.1"
  }
 },
 "nbformat": 4,
 "nbformat_minor": 2
}
